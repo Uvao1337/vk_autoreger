{
 "cells": [
  {
   "cell_type": "markdown",
   "metadata": {},
   "source": [
    "ИМПОРТЫ\n"
   ]
  },
  {
   "cell_type": "code",
   "execution_count": 17,
   "metadata": {},
   "outputs": [],
   "source": [
    "import time\n",
    "import requests\n",
    "import random\n",
    "import configparser\n",
    "from selenium import webdriver\n",
    "from selenium.webdriver.chrome.options import Options\n",
    "from selenium.webdriver.common.by import By\n",
    "from selenium.webdriver.common.keys import Keys\n",
    "from selenium.webdriver.support import expected_conditions as EC\n",
    "from selenium.webdriver.support.ui import WebDriverWait\n"
   ]
  },
  {
   "cell_type": "markdown",
   "metadata": {},
   "source": [
    "ТЗ\n",
    "- сделать статистику потраченных денег\n",
    "- сделать статистику зарегистрированных аккаунтов"
   ]
  },
  {
   "cell_type": "markdown",
   "metadata": {},
   "source": [
    "ИНИЦИАЛИЗАЦИЯ КОНСТАНТ"
   ]
  },
  {
   "cell_type": "code",
   "execution_count": 7,
   "metadata": {},
   "outputs": [],
   "source": [
    "# символы для паролей\n",
    "symbols = 'abcdefjhijklmnopqrstuvwxyz'\n",
    "\n",
    "# ключик от апи sms_activate\n",
    "api_key = \"9b60b9fed599fb522A4990854A67b18c\"\n",
    "# ссылка апи sms activate\n",
    "api_url = \"https://api.sms-activate.org/stubs/handler_api.php\"\n",
    "# ссылка на вк\n",
    "vk_url = \"https://vk.com/\"\n",
    "# xpath адрес кнопки \"sign up\"\n",
    "sign_in = \"/html/body/div[10]/div/div/div[2]/div[2]/div[3]/div/div[1]/div[2]/div[2]/div/div/div[1]/button/span\"\n",
    "# xpath адрес поля для ввода номера тела\n",
    "number_field = \"/html/body/div[1]/div/div/div/div/div[1]/div[2]/div/div/div/form/div[1]/section/div[1]/div/div/input\"\n",
    "# xpath адрес кнопки продолжить\n",
    "continue_button = \"/html/body/div[1]/div/div/div/div/div[1]/div[2]/div/div/div/form/div[2]/div[1]/button/span[1]\"\n",
    "# xpath адрес поля для ввода кода\n",
    "code_field = '//*[@id=\"otp\"]'\n",
    "\n"
   ]
  },
  {
   "cell_type": "markdown",
   "metadata": {},
   "source": [
    "ЗАКАЗ НОМЕРА SMS_ACTIVATE\n",
    "\n"
   ]
  },
  {
   "cell_type": "code",
   "execution_count": 4,
   "metadata": {},
   "outputs": [],
   "source": [
    "def get_number() -> dict:\n",
    "    \"\"\"\n",
    "    параметры запроса\n",
    "\n",
    "    действие: получить номер\n",
    "    страна: канада\n",
    "    \"\"\"\n",
    "    data = {\"action\" : \"getNumber\",\n",
    "                \"service\" : \"vk\",\n",
    "                \"api_key\" : api_key,\n",
    "                \"country\" : 36\n",
    "                }\n",
    "    # делаем апи запрос на получение номера\n",
    "    r = requests.get(api_url, params=data)\n",
    "    # если успешно\n",
    "    if \"ACCESS_NUMBER\" in r.text:\n",
    "        print(r.text)\n",
    "        # возвращаем результат True, айди активации, номер \n",
    "        return {\"result\" : True, \"id\" : r.text.split(\":\")[1], \"number\" : r.text.split(\":\")[2]}\n",
    "    # если неуспешно\n",
    "    else:\n",
    "        print(r.text)\n",
    "        return {\"result\" : False, \"reason\" : r.text}"
   ]
  },
  {
   "cell_type": "markdown",
   "metadata": {},
   "source": [
    "ПОЛУЧИТЬ СОСТОЯНИЕ АКТИВАЦИИ НОМЕРА"
   ]
  },
  {
   "cell_type": "code",
   "execution_count": 24,
   "metadata": {},
   "outputs": [],
   "source": [
    "def get_state(activation_id) -> bool:\n",
    "    \"\"\"\n",
    "    параметры запроса\n",
    "\n",
    "    действие: получить состояние активации\n",
    "    айди активации: аргумент\n",
    "    \"\"\"\n",
    "    data = {\"action\" : \"getStatus\",\n",
    "                \"api_key\" : api_key,\n",
    "                \"id\" : activation_id\n",
    "                }\n",
    "    # делаем запрос на получение состояния активации\n",
    "    r = requests.get(api_url, params=data)\n",
    "    # если успешно\n",
    "    if r.text == \"ACCESS_READY\":\n",
    "        print(r.text)\n",
    "        return True\n",
    "    # если неуспешно\n",
    "    else:\n",
    "        return False\n",
    "    "
   ]
  },
  {
   "cell_type": "markdown",
   "metadata": {},
   "source": [
    "ПОЛУЧИТЬ КОД ИЗ СМС"
   ]
  },
  {
   "cell_type": "code",
   "execution_count": 1,
   "metadata": {},
   "outputs": [],
   "source": [
    "def get_code(activation_id) -> dict:\n",
    "    \"\"\"\n",
    "    параметры запроса\n",
    "\n",
    "    действие: получить историю активаций\n",
    "    айди активации: аргумент\n",
    "    \"\"\"\n",
    "    \n",
    "    data = {\"action\" : \"getHistory\",\n",
    "            \"api_key\" : api_key}\n",
    "    # делаем апи запрос на получение истории активаций\n",
    "    r = requests.get(api_url, params=data)\n",
    "    print(r)\n",
    "    # проходимся по каждому элементу в списке\n",
    "    for element in r:\n",
    "        # если айди активации наш, то возвращаем смс код\n",
    "        if activation_id in element:\n",
    "            return {\"result\" : True, \"code\" : element['sms']}\n",
    "    # иначе возвращаем неудачу\n",
    "    return {\"result\" : False, \"reason\" : \"код не найден\"}"
   ]
  },
  {
   "cell_type": "markdown",
   "metadata": {},
   "source": [
    "ГЕНЕРАТОР ПАРОЛЕЙ"
   ]
  },
  {
   "cell_type": "code",
   "execution_count": 16,
   "metadata": {},
   "outputs": [],
   "source": [
    "def generate_password() -> str:\n",
    "    password = ''\n",
    "    for symb in range(10):\n",
    "        password += random.choice(symbols)\n",
    "    return password\n"
   ]
  },
  {
   "cell_type": "markdown",
   "metadata": {},
   "source": [
    "РАЗРАБОТКА АЛГОРИТМА РЕГИСТРАЦИИ"
   ]
  },
  {
   "cell_type": "code",
   "execution_count": null,
   "metadata": {},
   "outputs": [],
   "source": [
    "# инициализация движка хромиум\n",
    "browser = webdriver.Chrome()\n",
    "# вызываем функция получения номера\n",
    "data = get_number()\n",
    "# открываем вк\n",
    "browser.get(vk_url)\n",
    "# ждем пока страница загрузится (для тестов)\n",
    "time.sleep(5)\n",
    "# находим кнопку sign up и нажимаем на нее\n",
    "browser.find_element(By.XPATH, sign_in).click()\n",
    "# имитация задержки (для тестов)\n",
    "time.sleep(5)\n",
    "# находим поле для ввода номера тела \n",
    "field = browser.find_element(By.XPATH, number_field)\n",
    "# имитация задержки (для тестов)\n",
    "time.sleep(2)\n",
    "# очищаем его от мусора\n",
    "field.clear()\n",
    "# имитация задержки (для тестов)\n",
    "time.sleep(2)\n",
    "# вводим туда наш псевдономер\n",
    "field.send_keys(data['number'])\n",
    "# имитация задержки (для тестов)\n",
    "time.sleep(2)\n",
    "# находим кнопку продолжить и нажимаем на нее\n",
    "browser.find_element(By.XPATH, continue_button).click()\n",
    "# имитация задержки (для тестов)\n",
    "time.sleep(2)\n",
    "# проверяем в цикле, пришел ли код на наш номер\n",
    "while True:\n",
    "    if get_state(data['id']):\n",
    "        code = get_code(data['id'])\n",
    "        break\n",
    "    # задержка чтобы не перегружать сервак\n",
    "    time.sleep(3)\n",
    "# имитация задержки (для тестов)\n",
    "time.sleep(2)\n",
    "# находим поле для ввода кода и вводим туда код\n",
    "browser.find_element(By.XPATH, code_field).send_keys(code)\n",
    "# имитация задержки (для тестов)\n",
    "time.sleep(2)\n",
    "\n",
    "\n"
   ]
  },
  {
   "cell_type": "markdown",
   "metadata": {},
   "source": [
    "ТЕСТОВЫЕ ВЫЗОВЫ"
   ]
  },
  {
   "cell_type": "code",
   "execution_count": 27,
   "metadata": {},
   "outputs": [
    {
     "data": {
      "text/plain": [
       "'fatmrxvcxn'"
      ]
     },
     "execution_count": 27,
     "metadata": {},
     "output_type": "execute_result"
    }
   ],
   "source": [
    "a = generate_password()\n",
    "a"
   ]
  }
 ],
 "metadata": {
  "kernelspec": {
   "display_name": "Python 3",
   "language": "python",
   "name": "python3"
  },
  "language_info": {
   "codemirror_mode": {
    "name": "ipython",
    "version": 3
   },
   "file_extension": ".py",
   "mimetype": "text/x-python",
   "name": "python",
   "nbconvert_exporter": "python",
   "pygments_lexer": "ipython3",
   "version": "3.9.11"
  }
 },
 "nbformat": 4,
 "nbformat_minor": 2
}
